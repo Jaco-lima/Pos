{
  "nbformat": 4,
  "nbformat_minor": 0,
  "metadata": {
    "colab": {
      "name": "Calculo_Area_Quadrado.ipynb",
      "provenance": [],
      "collapsed_sections": [],
      "authorship_tag": "ABX9TyOPackJwBrCyqDBRID3RKo9",
      "include_colab_link": true
    },
    "kernelspec": {
      "name": "python3",
      "display_name": "Python 3"
    },
    "language_info": {
      "name": "python"
    }
  },
  "cells": [
    {
      "cell_type": "markdown",
      "metadata": {
        "id": "view-in-github",
        "colab_type": "text"
      },
      "source": [
        "<a href=\"https://colab.research.google.com/github/Jaco-lima/Pos/blob/main/Calculo_Area_Quadrado.ipynb\" target=\"_parent\"><img src=\"https://colab.research.google.com/assets/colab-badge.svg\" alt=\"Open In Colab\"/></a>"
      ]
    },
    {
      "cell_type": "code",
      "execution_count": 10,
      "metadata": {
        "colab": {
          "base_uri": "https://localhost:8080/"
        },
        "id": "p4jD7ikNLEWC",
        "outputId": "267b50ec-0d64-4b34-b996-c049e8a0fa28"
      },
      "outputs": [
        {
          "output_type": "stream",
          "name": "stdout",
          "text": [
            "7.5\n",
            "7.5\n",
            "9\n",
            "12\n",
            "12\n",
            "2.88\n"
          ]
        }
      ],
      "source": [
        "#Área interna\n",
        "print(3*2.5) #Quarto 01\n",
        "print(3*2.5) #Quarto 02\n",
        "print(3*3) #Quarto 03\n",
        "print(3*4) #Sala\n",
        "print(3*4) #Cozinha\n",
        "print(1.2*2.4) #Banheiro"
      ]
    },
    {
      "cell_type": "code",
      "source": [
        "print(3*2.5 + (3*2.5) + (3*3) + (3*4) + (3*4) + (1.2*2.4))"
      ],
      "metadata": {
        "colab": {
          "base_uri": "https://localhost:8080/"
        },
        "id": "XCscQ7sZPtGf",
        "outputId": "5f49e0ee-c03e-44d9-a01e-c1f735e03db5"
      },
      "execution_count": 12,
      "outputs": [
        {
          "output_type": "stream",
          "name": "stdout",
          "text": [
            "50.88\n"
          ]
        }
      ]
    },
    {
      "cell_type": "code",
      "source": [
        "Quarto_1 = (3*2.5)\n",
        "Quarto_2 =(3*2.5)\n",
        "Quarto_3 =(3*3)\n",
        "Sala = (3*4)\n",
        "Cozinha = (3*4)\n",
        "Banheiro = (1.2*2.4)"
      ],
      "metadata": {
        "id": "RjsJ4VlsRb7I"
      },
      "execution_count": 25,
      "outputs": []
    },
    {
      "cell_type": "code",
      "source": [
        "area_imovel = Quarto_1 + Quarto_2 + Quarto_3 + Sala + Cozinha + Banheiro"
      ],
      "metadata": {
        "id": "1ylqImK5SeYm"
      },
      "execution_count": 26,
      "outputs": []
    },
    {
      "cell_type": "code",
      "source": [
        "print(area_imovel)"
      ],
      "metadata": {
        "colab": {
          "base_uri": "https://localhost:8080/"
        },
        "id": "r9Em_waCSzqq",
        "outputId": "a9b3033d-73f8-4c86-db82-0bb523fe7129"
      },
      "execution_count": 27,
      "outputs": [
        {
          "output_type": "stream",
          "name": "stdout",
          "text": [
            "50.88\n"
          ]
        }
      ]
    },
    {
      "cell_type": "code",
      "source": [
        "Casa = {'Quarto_1':3*2.5, 'Quarto_2':3*2.5, 'Quarto':Quarto_3, 'Sala':Sala, 'Cozinha':Cozinha, 'Banheiro':Banheiro }"
      ],
      "metadata": {
        "id": "hAO-rGZYTtlc"
      },
      "execution_count": 29,
      "outputs": []
    },
    {
      "cell_type": "code",
      "source": [
        "print(Casa.keys())"
      ],
      "metadata": {
        "colab": {
          "base_uri": "https://localhost:8080/"
        },
        "id": "MiHzvE9JUTes",
        "outputId": "ad331373-6b99-4b95-c4bf-eb42106da466"
      },
      "execution_count": 30,
      "outputs": [
        {
          "output_type": "stream",
          "name": "stdout",
          "text": [
            "dict_keys(['Quarto_1', 'Quarto_2', 'Quarto', 'Sala', 'Cozinha', 'Banheiro'])\n"
          ]
        }
      ]
    },
    {
      "cell_type": "code",
      "source": [
        "print(Casa.values())"
      ],
      "metadata": {
        "colab": {
          "base_uri": "https://localhost:8080/"
        },
        "id": "e92_AZoTUi4U",
        "outputId": "2c9c4495-f27c-4286-f35f-dc7dd701cb4e"
      },
      "execution_count": 31,
      "outputs": [
        {
          "output_type": "stream",
          "name": "stdout",
          "text": [
            "dict_values([7.5, 7.5, 9, 12, 12, 2.88])\n"
          ]
        }
      ]
    },
    {
      "cell_type": "code",
      "source": [
        "Casa['Cozinha']"
      ],
      "metadata": {
        "colab": {
          "base_uri": "https://localhost:8080/"
        },
        "id": "MEzXQEXbUtqi",
        "outputId": "9ab24d51-3cd1-4562-985b-edfbf931bd77"
      },
      "execution_count": 32,
      "outputs": [
        {
          "output_type": "execute_result",
          "data": {
            "text/plain": [
              "12"
            ]
          },
          "metadata": {},
          "execution_count": 32
        }
      ]
    },
    {
      "cell_type": "code",
      "source": [
        "MinhasCasas = {'Casa 1': {'Endereço': 'Av Faria Lima', 'Comodos':{'Quarto_1':3*2.5, 'Quarto_2':3*2.5, 'Quarto':Quarto_3, 'Sala':Sala, 'Cozinha':Cozinha, 'Banheiro':Banheiro }},\n",
        "               'Casa 2': {'Endereço': 'Av Paulista', 'Comodos':{'Quarto_1':3*2.5, 'Quarto_2':3*2.5, 'Quarto':Quarto_3, 'Sala':Sala, 'Cozinha':Cozinha, 'Banheiro':Banheiro }}}\n"
      ],
      "metadata": {
        "id": "zXofUchIUxzL"
      },
      "execution_count": 36,
      "outputs": []
    },
    {
      "cell_type": "code",
      "source": [
        "MinhasCasas.items()"
      ],
      "metadata": {
        "colab": {
          "base_uri": "https://localhost:8080/"
        },
        "id": "KhjnQvXnV409",
        "outputId": "2123f378-794a-4dd6-efa0-1eb43b4173d8"
      },
      "execution_count": 37,
      "outputs": [
        {
          "output_type": "execute_result",
          "data": {
            "text/plain": [
              "dict_items([('Casa 1', {'Endereço': 'Av Faria Lima', 'Comodos': {'Quarto_1': 7.5, 'Quarto_2': 7.5, 'Quarto': 9, 'Sala': 12, 'Cozinha': 12, 'Banheiro': 2.88}}), ('Casa 2', {'Endereço': 'Av Paulista', 'Comodos': {'Quarto_1': 7.5, 'Quarto_2': 7.5, 'Quarto': 9, 'Sala': 12, 'Cozinha': 12, 'Banheiro': 2.88}})])"
            ]
          },
          "metadata": {},
          "execution_count": 37
        }
      ]
    },
    {
      "cell_type": "code",
      "source": [
        "MinhasCasas.values()"
      ],
      "metadata": {
        "colab": {
          "base_uri": "https://localhost:8080/"
        },
        "id": "DGgVvb3pV-46",
        "outputId": "bf387b17-0c63-4c1d-a3b8-b11984f2bc15"
      },
      "execution_count": 40,
      "outputs": [
        {
          "output_type": "execute_result",
          "data": {
            "text/plain": [
              "dict_values([{'Endereço': 'Av Faria Lima', 'Comodos': {'Quarto_1': 7.5, 'Quarto_2': 7.5, 'Quarto': 9, 'Sala': 12, 'Cozinha': 12, 'Banheiro': 2.88}}, {'Endereço': 'Av Paulista', 'Comodos': {'Quarto_1': 7.5, 'Quarto_2': 7.5, 'Quarto': 9, 'Sala': 12, 'Cozinha': 12, 'Banheiro': 2.88}}])"
            ]
          },
          "metadata": {},
          "execution_count": 40
        }
      ]
    },
    {
      "cell_type": "code",
      "source": [
        "MinhasCasas['Casa 1']['Endereço']"
      ],
      "metadata": {
        "colab": {
          "base_uri": "https://localhost:8080/",
          "height": 35
        },
        "id": "Mgk44WHjWJtB",
        "outputId": "8a48471e-0c49-44b2-f841-5fe5843c64da"
      },
      "execution_count": 42,
      "outputs": [
        {
          "output_type": "execute_result",
          "data": {
            "text/plain": [
              "'Av Faria Lima'"
            ],
            "application/vnd.google.colaboratory.intrinsic+json": {
              "type": "string"
            }
          },
          "metadata": {},
          "execution_count": 42
        }
      ]
    },
    {
      "cell_type": "code",
      "source": [
        "MinhasCasas['Casa 2']['Endereço']"
      ],
      "metadata": {
        "colab": {
          "base_uri": "https://localhost:8080/",
          "height": 35
        },
        "id": "6QdWsq38WVIE",
        "outputId": "95dc2d9c-0cc2-4fc5-bc0e-206c2d9f1938"
      },
      "execution_count": 44,
      "outputs": [
        {
          "output_type": "execute_result",
          "data": {
            "text/plain": [
              "'Av Paulista'"
            ],
            "application/vnd.google.colaboratory.intrinsic+json": {
              "type": "string"
            }
          },
          "metadata": {},
          "execution_count": 44
        }
      ]
    },
    {
      "cell_type": "code",
      "source": [
        "for key, item in MinhasCasas.items():\n",
        "  print(key,item)"
      ],
      "metadata": {
        "colab": {
          "base_uri": "https://localhost:8080/"
        },
        "id": "-Qb2iEHVWafp",
        "outputId": "fd9898d9-6dda-494f-cf74-447806b0d407"
      },
      "execution_count": 48,
      "outputs": [
        {
          "output_type": "stream",
          "name": "stdout",
          "text": [
            "Casa 1 {'Endereço': 'Av Faria Lima', 'Comodos': {'Quarto_1': 7.5, 'Quarto_2': 7.5, 'Quarto': 9, 'Sala': 12, 'Cozinha': 12, 'Banheiro': 2.88}}\n",
            "Casa 2 {'Endereço': 'Av Paulista', 'Comodos': {'Quarto_1': 7.5, 'Quarto_2': 7.5, 'Quarto': 9, 'Sala': 12, 'Cozinha': 12, 'Banheiro': 2.88}}\n"
          ]
        }
      ]
    },
    {
      "cell_type": "code",
      "source": [
        "for chave in MinhasCasas.keys():\n",
        "  print(chave)\n",
        "  for item in MinhasCasas[chave].items():\n",
        "    print(item)"
      ],
      "metadata": {
        "colab": {
          "base_uri": "https://localhost:8080/"
        },
        "id": "fOuXHFEIWrAa",
        "outputId": "2bf124e9-c931-4b3f-e128-3f8224505a98"
      },
      "execution_count": 52,
      "outputs": [
        {
          "output_type": "stream",
          "name": "stdout",
          "text": [
            "Casa 1\n",
            "('Endereço', 'Av Faria Lima')\n",
            "('Comodos', {'Quarto_1': 7.5, 'Quarto_2': 7.5, 'Quarto': 9, 'Sala': 12, 'Cozinha': 12, 'Banheiro': 2.88})\n",
            "Casa 2\n",
            "('Endereço', 'Av Paulista')\n",
            "('Comodos', {'Quarto_1': 7.5, 'Quarto_2': 7.5, 'Quarto': 9, 'Sala': 12, 'Cozinha': 12, 'Banheiro': 2.88})\n"
          ]
        }
      ]
    },
    {
      "cell_type": "code",
      "source": [
        "lista_de_elementos = ['Quarto 1', 'Quarto 2','Quarto 3','Sala','Cozinha','Banheiro']"
      ],
      "metadata": {
        "id": "m9rx-64dXiPm"
      },
      "execution_count": 81,
      "outputs": []
    },
    {
      "cell_type": "code",
      "source": [
        "len(lista_de_elementos)"
      ],
      "metadata": {
        "colab": {
          "base_uri": "https://localhost:8080/"
        },
        "id": "Dt7OJjuBX_7S",
        "outputId": "8afa5974-02ab-4c35-bbaa-f46a27658d4a"
      },
      "execution_count": 54,
      "outputs": [
        {
          "output_type": "execute_result",
          "data": {
            "text/plain": [
              "6"
            ]
          },
          "metadata": {},
          "execution_count": 54
        }
      ]
    },
    {
      "cell_type": "code",
      "source": [
        "print(lista_de_elementos[0])\n",
        "print(lista_de_elementos[1])\n",
        "print(lista_de_elementos[len(lista_de_elementos)-1])"
      ],
      "metadata": {
        "colab": {
          "base_uri": "https://localhost:8080/"
        },
        "id": "zuNtRcyLZjOT",
        "outputId": "37cd2837-7489-44a2-fb4d-e6c993b0c67d"
      },
      "execution_count": 69,
      "outputs": [
        {
          "output_type": "stream",
          "name": "stdout",
          "text": [
            "Banheiro\n",
            "Cozinha\n",
            "Sala\n"
          ]
        }
      ]
    },
    {
      "cell_type": "code",
      "source": [
        "print(lista_de_elementos[0])\n",
        "print(lista_de_elementos[1])\n",
        "print(lista_de_elementos[len(lista_de_elementos)-1])"
      ],
      "metadata": {
        "colab": {
          "base_uri": "https://localhost:8080/"
        },
        "id": "sy0dblGVZmST",
        "outputId": "e4a3f4e4-902f-4674-c9ec-8feb3ae29298"
      },
      "execution_count": 72,
      "outputs": [
        {
          "output_type": "stream",
          "name": "stdout",
          "text": [
            "Banheiro\n",
            "Cozinha\n",
            "Sala\n"
          ]
        }
      ]
    },
    {
      "cell_type": "code",
      "source": [
        "lista_de_elementos.sort()"
      ],
      "metadata": {
        "id": "uYG3BT4QZnor"
      },
      "execution_count": 71,
      "outputs": []
    },
    {
      "cell_type": "code",
      "source": [
        "print(lista_de_elementos)"
      ],
      "metadata": {
        "colab": {
          "base_uri": "https://localhost:8080/"
        },
        "id": "MCSgPfvgZqkK",
        "outputId": "8c2dc819-e90f-43b1-d746-7a40ac8a8975"
      },
      "execution_count": 74,
      "outputs": [
        {
          "output_type": "stream",
          "name": "stdout",
          "text": [
            "['Banheiro', 'Cozinha', 'Quarto 1', 'Quarto 2', 'Quarto 3', 'Sala']\n"
          ]
        }
      ]
    },
    {
      "cell_type": "code",
      "source": [
        "lista_de_elementos[4] = 'Piscina'"
      ],
      "metadata": {
        "id": "mnLDWdLnZyub"
      },
      "execution_count": 75,
      "outputs": []
    },
    {
      "cell_type": "code",
      "source": [
        "print(lista_de_elementos)"
      ],
      "metadata": {
        "colab": {
          "base_uri": "https://localhost:8080/"
        },
        "id": "NgxBIk_oZ5TK",
        "outputId": "270e9609-539f-45ba-d720-61e7a811aabe"
      },
      "execution_count": 76,
      "outputs": [
        {
          "output_type": "stream",
          "name": "stdout",
          "text": [
            "['Banheiro', 'Cozinha', 'Quarto 1', 'Quarto 2', 'Piscina', 'Sala']\n"
          ]
        }
      ]
    },
    {
      "cell_type": "code",
      "source": [
        "lista_de_elementos.append('Area de serviço')"
      ],
      "metadata": {
        "id": "PCHljfOkZ8ZK"
      },
      "execution_count": 83,
      "outputs": []
    },
    {
      "cell_type": "code",
      "source": [
        "print(lista_de_elementos)"
      ],
      "metadata": {
        "colab": {
          "base_uri": "https://localhost:8080/"
        },
        "id": "SjUxg97zaHdL",
        "outputId": "21d7c73d-022b-4d46-8276-fc07f5e0b39c"
      },
      "execution_count": 84,
      "outputs": [
        {
          "output_type": "stream",
          "name": "stdout",
          "text": [
            "['Quarto 1', 'Quarto 2', 'Quarto 3', 'Sala', 'Cozinha', 'Banheiro', 'Area de serviço']\n"
          ]
        }
      ]
    },
    {
      "cell_type": "code",
      "source": [
        "print(lista_de_elementos[0])\n",
        "print(lista_de_elementos[1])\n",
        "print(lista_de_elementos[len(lista_de_elementos)-1])"
      ],
      "metadata": {
        "colab": {
          "base_uri": "https://localhost:8080/"
        },
        "id": "mtc403D8aMBj",
        "outputId": "afb87cf4-6510-4280-a444-0beda29b32bd"
      },
      "execution_count": 86,
      "outputs": [
        {
          "output_type": "stream",
          "name": "stdout",
          "text": [
            "Quarto 1\n",
            "Quarto 2\n",
            "Area de serviço\n"
          ]
        }
      ]
    },
    {
      "cell_type": "code",
      "source": [
        "def calcular_area(base, altura):\n",
        "  area = base * altura\n",
        "  return area"
      ],
      "metadata": {
        "id": "yU9FfTtHaclq"
      },
      "execution_count": 99,
      "outputs": []
    },
    {
      "cell_type": "code",
      "source": [
        "novo_comodo = input(\"Entre com o nome do cômodo: \")\n",
        "nova_base = int(input(\"Entre com a base do cômodo: \"))\n",
        "nova_altura = int(input(\"Entre com a altura do cômodo: \"))\n",
        "print('O cômodo ',novo_comodo, ' tem a área de ', calcular_area(nova_base,nova_altura), 'metros quadrados')"
      ],
      "metadata": {
        "colab": {
          "base_uri": "https://localhost:8080/"
        },
        "id": "Tg4x7nK6azQb",
        "outputId": "8b3210bd-b56a-4447-9773-f12299dc73f6"
      },
      "execution_count": 106,
      "outputs": [
        {
          "output_type": "stream",
          "name": "stdout",
          "text": [
            "Entre com o nome do cômodo: Piscina\n",
            "Entre com a base do cômodo: 3\n",
            "Entre com a altura do cômodo: 6\n",
            "O cômodo  Piscina  tem a área de  18 metros quadrados\n"
          ]
        }
      ]
    },
    {
      "cell_type": "code",
      "source": [
        "print(novo_comodo)"
      ],
      "metadata": {
        "colab": {
          "base_uri": "https://localhost:8080/"
        },
        "id": "nLegbya9a-Vr",
        "outputId": "77a35b3b-b852-48db-8b96-275033732c5f"
      },
      "execution_count": 102,
      "outputs": [
        {
          "output_type": "stream",
          "name": "stdout",
          "text": [
            "Piscina\n"
          ]
        }
      ]
    },
    {
      "cell_type": "code",
      "source": [
        "print(nova_base)"
      ],
      "metadata": {
        "colab": {
          "base_uri": "https://localhost:8080/"
        },
        "id": "8AZYVm6IbEFb",
        "outputId": "2cfc2c8e-25ba-4584-e9e3-1f60a4658da6"
      },
      "execution_count": 103,
      "outputs": [
        {
          "output_type": "stream",
          "name": "stdout",
          "text": [
            "3\n"
          ]
        }
      ]
    },
    {
      "cell_type": "code",
      "source": [
        "print(nova_altura)"
      ],
      "metadata": {
        "colab": {
          "base_uri": "https://localhost:8080/"
        },
        "id": "7TF1O6VpbeeL",
        "outputId": "6d4ad2bf-2b51-43fd-c75b-034fbbde96fe"
      },
      "execution_count": 104,
      "outputs": [
        {
          "output_type": "stream",
          "name": "stdout",
          "text": [
            "6\n"
          ]
        }
      ]
    },
    {
      "cell_type": "code",
      "source": [
        "print(calcular_area(nova_base,nova_altura))"
      ],
      "metadata": {
        "colab": {
          "base_uri": "https://localhost:8080/"
        },
        "id": "1XbGQQBQbgo7",
        "outputId": "a21a7574-af2d-4f1d-f66a-aa1633c4ebf3"
      },
      "execution_count": 105,
      "outputs": [
        {
          "output_type": "stream",
          "name": "stdout",
          "text": [
            "18\n"
          ]
        }
      ]
    }
  ]
}